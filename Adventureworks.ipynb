{
 "cells": [
  {
   "cell_type": "markdown",
   "metadata": {
    "application/vnd.databricks.v1+cell": {
     "cellMetadata": {
      "byteLimit": 2048000,
      "rowLimit": 10000
     },
     "inputWidgets": {},
     "nuid": "b4e8c0db-c2af-44e5-86de-247012d5b0c3",
     "showTitle": false,
     "title": ""
    }
   },
   "source": [
    "Mount ADLS"
   ]
  },
  {
   "cell_type": "code",
   "execution_count": 0,
   "metadata": {
    "application/vnd.databricks.v1+cell": {
     "cellMetadata": {
      "byteLimit": 2048000,
      "rowLimit": 10000
     },
     "inputWidgets": {},
     "nuid": "21e8626a-30d1-4269-883e-983aac06433c",
     "showTitle": false,
     "title": ""
    }
   },
   "outputs": [
    {
     "output_type": "stream",
     "name": "stdout",
     "output_type": "stream",
     "text": [
      "/mnt/adventureworks has been unmounted.\nOut[1]: True"
     ]
    }
   ],
   "source": [
    "dbutils.fs.unmount(\"/mnt/adventureworks\")"
   ]
  },
  {
   "cell_type": "code",
   "execution_count": 0,
   "metadata": {
    "application/vnd.databricks.v1+cell": {
     "cellMetadata": {
      "byteLimit": 2048000,
      "rowLimit": 10000
     },
     "inputWidgets": {},
     "nuid": "0f80b56c-2409-401b-a071-938681a49eb9",
     "showTitle": false,
     "title": ""
    }
   },
   "outputs": [
    {
     "output_type": "stream",
     "name": "stdout",
     "output_type": "stream",
     "text": [
      "Out[2]: True"
     ]
    }
   ],
   "source": [
    "configs = {\n",
    "  \"fs.azure.account.auth.type\": \"OAuth\",\n",
    "  \"fs.azure.account.oauth.provider.type\": \"\",\n",
    "  \"fs.azure.account.oauth2.client.id\": \"\",\n",
    "  \"fs.azure.account.oauth2.client.secret\": \"\",\n",
    "  \"fs.azure.account.oauth2.client.endpoint\": \"\"\n",
    "}\n",
    "\n",
    "dbutils.fs.mount(\n",
    "  source = \"abfss://adventureworks@practiceblobstorage.dfs.core.windows.net\",\n",
    "  mount_point = \"/mnt/adventureworks\",\n",
    "  extra_configs = configs\n",
    ")\n"
   ]
  },
  {
   "cell_type": "markdown",
   "metadata": {
    "application/vnd.databricks.v1+cell": {
     "cellMetadata": {
      "byteLimit": 2048000,
      "rowLimit": 10000
     },
     "inputWidgets": {},
     "nuid": "169ac074-8eb5-41b6-8407-42b258114a0b",
     "showTitle": false,
     "title": ""
    }
   },
   "source": [
    "Import funtction and types"
   ]
  },
  {
   "cell_type": "code",
   "execution_count": 0,
   "metadata": {
    "application/vnd.databricks.v1+cell": {
     "cellMetadata": {
      "byteLimit": 2048000,
      "rowLimit": 10000
     },
     "inputWidgets": {},
     "nuid": "78481666-f880-49c8-a39d-90303d5647f0",
     "showTitle": false,
     "title": ""
    }
   },
   "outputs": [],
   "source": [
    "from pyspark.sql.functions import from_utc_timestamp,date_format,col,to_date,month,year,concat,substring,lit,sum,round,count,countDistinct,lag,lead,coalesce,datediff,min,max,avg,ceil,when\n",
    "from pyspark.sql.types import TimestampType\n",
    "from pyspark.sql.window import Window"
   ]
  },
  {
   "cell_type": "markdown",
   "metadata": {
    "application/vnd.databricks.v1+cell": {
     "cellMetadata": {
      "byteLimit": 2048000,
      "rowLimit": 10000
     },
     "inputWidgets": {},
     "nuid": "2f7c6b00-af74-490a-91b2-f355875d6a49",
     "showTitle": false,
     "title": ""
    }
   },
   "source": [
    "list of tables"
   ]
  },
  {
   "cell_type": "code",
   "execution_count": 0,
   "metadata": {
    "application/vnd.databricks.v1+cell": {
     "cellMetadata": {
      "byteLimit": 2048000,
      "rowLimit": 10000
     },
     "inputWidgets": {},
     "nuid": "10b167d9-2b52-4380-b09c-caddb9e12888",
     "showTitle": false,
     "title": ""
    }
   },
   "outputs": [
    {
     "output_type": "stream",
     "name": "stdout",
     "output_type": "stream",
     "text": [
      "Out[4]: ['CreditCard',\n 'Customer',\n 'SalesOrderDetail',\n 'SalesOrderHeader',\n 'SalesPerson',\n 'SalesTerritory',\n 'SpecialOfferProduct',\n 'Store']"
     ]
    }
   ],
   "source": [
    "tablenames=[]\n",
    "for i in dbutils.fs.ls(\"dbfs:/mnt/adventureworks/Bronze/\"):\n",
    "    tablenames.append(i.name.split('/')[-1])\n",
    "tablenames\n"
   ]
  },
  {
   "cell_type": "markdown",
   "metadata": {
    "application/vnd.databricks.v1+cell": {
     "cellMetadata": {
      "byteLimit": 2048000,
      "rowLimit": 10000
     },
     "inputWidgets": {},
     "nuid": "80988748-f2a7-4cf8-9b49-2e4e6a41efec",
     "showTitle": false,
     "title": ""
    }
   },
   "source": [
    "table headers"
   ]
  },
  {
   "cell_type": "code",
   "execution_count": 0,
   "metadata": {
    "application/vnd.databricks.v1+cell": {
     "cellMetadata": {
      "byteLimit": 2048000,
      "rowLimit": 10000
     },
     "inputWidgets": {},
     "nuid": "997d4f0e-4f02-4517-9341-cdf4d0956ea5",
     "showTitle": false,
     "title": ""
    }
   },
   "outputs": [],
   "source": [
    "\n",
    "sales_tables_columns = {\n",
    "    \"SalesOrderHeader\": [\n",
    "        \"SalesOrderID\", \"RevisionNumber\", \"OrderDate\", \"DueDate\", \"ShipDate\", \"Status\", \"OnlineOrderFlag\", \n",
    "        \"SalesOrderNumber\", \"PurchaseOrderNumber\", \"AccountNumber\", \"CustomerID\", \"SalesPersonID\", \n",
    "        \"TerritoryID\", \"BillToAddressID\", \"ShipToAddressID\", \"ShipMethodID\", \"CreditCardID\", \n",
    "        \"CreditCardApprovalCode\", \"CurrencyRateID\", \"SubTotal\", \"TaxAmt\", \"Freight\", \"TotalDue\", \n",
    "        \"Comment\", \"rowguid\", \"ModifiedDate\"\n",
    "    ],\n",
    "    \"SalesOrderDetail\": [\n",
    "        \"SalesOrderID\", \"SalesOrderDetailID\", \"CarrierTrackingNumber\", \"OrderQty\", \"ProductID\", \n",
    "        \"SpecialOfferID\", \"UnitPrice\", \"UnitPriceDiscount\", \"LineTotal\", \"rowguid\", \"ModifiedDate\"\n",
    "    ],\n",
    "    \"Customer\": [\n",
    "        \"CustomerID\", \"PersonID\", \"StoreID\", \"TerritoryID\", \"AccountNumber\", \"rowguid\", \"ModifiedDate\"\n",
    "    ],\n",
    "    \"SalesPerson\": [\n",
    "        \"SalesPersonID\", \"TerritoryID\", \"SalesQuota\", \"Bonus\", \"CommissionPct\", \"SalesYTD\", \n",
    "        \"SalesLastYear\", \"rowguid\", \"ModifiedDate\"\n",
    "    ],\n",
    "    \"SpecialOfferProduct\": [\n",
    "        \"SpecialOfferID\", \"ProductID\", \"rowguid\", \"ModifiedDate\"\n",
    "    ],\n",
    "    \"Store\": [\n",
    "        \"BusinessEntityID\", \"Name\", \"SalesPersonID\", \"Demographics\", \"rowguid\", \"ModifiedDate\"\n",
    "    ],\n",
    "    \"SalesTerritory\": [\n",
    "        \"TerritoryID\", \"Name\", \"CountryRegionCode\", \"Group\", \"SalesYTD\", \"SalesLastYear\", \n",
    "        \"CostYTD\", \"CostLastYear\", \"rowguid\", \"ModifiedDate\"\n",
    "    ],\n",
    "    \"CreditCard\": [\n",
    "        \"CreditCardID\", \"CardType\", \"CardNumber\", \"ExpMonth\", \"ExpYear\", \"ModifiedDate\"\n",
    "    ]\n",
    "}\n",
    "\n",
    "    "
   ]
  },
  {
   "cell_type": "code",
   "execution_count": 0,
   "metadata": {
    "application/vnd.databricks.v1+cell": {
     "cellMetadata": {
      "byteLimit": 2048000,
      "rowLimit": 10000
     },
     "inputWidgets": {},
     "nuid": "7b1df8ec-e380-4a95-a6a1-b8924a4ac97e",
     "showTitle": false,
     "title": ""
    }
   },
   "outputs": [
    {
     "output_type": "display_data",
     "data": {
      "text/html": [
       "<style scoped>\n",
       "  .table-result-container {\n",
       "    max-height: 300px;\n",
       "    overflow: auto;\n",
       "  }\n",
       "  table, th, td {\n",
       "    border: 1px solid black;\n",
       "    border-collapse: collapse;\n",
       "  }\n",
       "  th, td {\n",
       "    padding: 5px;\n",
       "  }\n",
       "  th {\n",
       "    text-align: left;\n",
       "  }\n",
       "</style><div class='table-result-container'><table class='table-result'><thead style='background-color: white'><tr><th>path</th><th>name</th><th>size</th><th>modificationTime</th></tr></thead><tbody><tr><td>dbfs:/mnt/adventureworks/Bronze/</td><td>Bronze/</td><td>0</td><td>1727801721000</td></tr><tr><td>dbfs:/mnt/adventureworks/Gold/</td><td>Gold/</td><td>0</td><td>1727801741000</td></tr><tr><td>dbfs:/mnt/adventureworks/Silver/</td><td>Silver/</td><td>0</td><td>1727801731000</td></tr></tbody></table></div>"
      ]
     },
     "metadata": {
      "application/vnd.databricks.v1+output": {
       "addedWidgets": {},
       "aggData": [],
       "aggError": "",
       "aggOverflow": false,
       "aggSchema": [],
       "aggSeriesLimitReached": false,
       "aggType": "",
       "arguments": {},
       "columnCustomDisplayInfos": {},
       "data": [
        [
         "dbfs:/mnt/adventureworks/Bronze/",
         "Bronze/",
         0,
         1727801721000
        ],
        [
         "dbfs:/mnt/adventureworks/Gold/",
         "Gold/",
         0,
         1727801741000
        ],
        [
         "dbfs:/mnt/adventureworks/Silver/",
         "Silver/",
         0,
         1727801731000
        ]
       ],
       "datasetInfos": [],
       "dbfsResultPath": null,
       "isJsonSchema": true,
       "metadata": {
        "isDbfsCommandResult": false
       },
       "overflow": false,
       "plotOptions": {
        "customPlotOptions": {},
        "displayType": "table",
        "pivotAggregation": null,
        "pivotColumns": null,
        "xColumns": null,
        "yColumns": null
       },
       "removedWidgets": [],
       "schema": [
        {
         "metadata": "{}",
         "name": "path",
         "type": "\"string\""
        },
        {
         "metadata": "{}",
         "name": "name",
         "type": "\"string\""
        },
        {
         "metadata": "{}",
         "name": "size",
         "type": "\"long\""
        },
        {
         "metadata": "{}",
         "name": "modificationTime",
         "type": "\"long\""
        }
       ],
       "type": "table"
      }
     },
     "output_type": "display_data"
    }
   ],
   "source": [
    "%fs ls \"dbfs:/mnt/adventureworks/\""
   ]
  },
  {
   "cell_type": "markdown",
   "metadata": {
    "application/vnd.databricks.v1+cell": {
     "cellMetadata": {
      "byteLimit": 2048000,
      "rowLimit": 10000
     },
     "inputWidgets": {},
     "nuid": "205a32b6-429a-4adf-8931-cfef1633887e",
     "showTitle": false,
     "title": ""
    }
   },
   "source": [
    "Create dataframe"
   ]
  },
  {
   "cell_type": "code",
   "execution_count": 0,
   "metadata": {
    "application/vnd.databricks.v1+cell": {
     "cellMetadata": {
      "byteLimit": 2048000,
      "rowLimit": 10000
     },
     "inputWidgets": {},
     "nuid": "f949d5f1-1467-4edc-954d-c10cf58e7f7d",
     "showTitle": false,
     "title": ""
    }
   },
   "outputs": [],
   "source": [
    "for table in tablenames:\n",
    "    columns=sales_tables_columns[table]\n",
    "    df=spark.read.format(\"csv\").\\\n",
    "        option(\"header\",\"false\").\\\n",
    "            option(\"inferSchema\",\"true\").\\\n",
    "                load(\"dbfs:/mnt/adventureworks/Bronze/\"+table)\n",
    "\n",
    "    for i, col in enumerate(columns):\n",
    "        if \"Date\" in col or \"date\" in col:\n",
    "            df = df.withColumnRenamed(df.columns[i], col) \\\n",
    "               .withColumn(col, date_format(from_utc_timestamp(col, \"UTC\").cast(TimestampType()), \"yyyy-MM-dd\"))\\\n",
    "                   .withColumn(col,to_date(col,\"yyyy-MM-dd\"))\n",
    "               \n",
    "        else:\n",
    "        # Just rename the column\n",
    "            df = df.withColumnRenamed(df.columns[i], col)\n",
    "\n",
    "    \n",
    "    locals()[f\"{table}_df\"]=df"
   ]
  },
  {
   "cell_type": "markdown",
   "metadata": {
    "application/vnd.databricks.v1+cell": {
     "cellMetadata": {
      "byteLimit": 2048000,
      "rowLimit": 10000
     },
     "inputWidgets": {},
     "nuid": "39a22542-26c8-4618-85e8-bb63f3212db8",
     "showTitle": false,
     "title": ""
    }
   },
   "source": [
    "data validation \n",
    "remove dublicates,null values"
   ]
  },
  {
   "cell_type": "code",
   "execution_count": 0,
   "metadata": {
    "application/vnd.databricks.v1+cell": {
     "cellMetadata": {
      "byteLimit": 2048000,
      "rowLimit": 10000
     },
     "inputWidgets": {},
     "nuid": "a40140f9-3b0a-4b9b-8942-f8d5f6b560cb",
     "showTitle": false,
     "title": ""
    }
   },
   "outputs": [],
   "source": [
    "Customer_df=Customer_df.dropna(subset=[\"customerid\"])\n",
    "SalesPerson_df=SalesPerson_df.dropna(subset=[\"SalesPersonID\"])\\\n",
    "    .dropDuplicates([\"salesPersonid\"])\n",
    "SalesOrderHeader_df=SalesOrderHeader_df.\\\n",
    "    dropna(subset=[\"orderdate\"])\\\n",
    "        .withColumn(\"Ordermonth\",month(\"orderdate\"))\\\n",
    "            .withColumn(\"orderYear\",year(\"orderdate\"))\n",
    "SalesOrderDetail_df = SalesOrderDetail_df.filter((col(\"OrderQty\") != 0) | (col(\"UnitPrice\") > 0))\n",
    "\n"
   ]
  },
  {
   "cell_type": "markdown",
   "metadata": {
    "application/vnd.databricks.v1+cell": {
     "cellMetadata": {
      "byteLimit": 2048000,
      "rowLimit": 10000
     },
     "inputWidgets": {},
     "nuid": "79055717-56ca-4662-95cf-1c93df14f5c2",
     "showTitle": false,
     "title": ""
    }
   },
   "source": [
    "mask card number"
   ]
  },
  {
   "cell_type": "code",
   "execution_count": 0,
   "metadata": {
    "application/vnd.databricks.v1+cell": {
     "cellMetadata": {
      "byteLimit": 2048000,
      "rowLimit": 10000
     },
     "inputWidgets": {},
     "nuid": "28024160-277c-4731-ab39-0fbe4b69c5c5",
     "showTitle": false,
     "title": ""
    }
   },
   "outputs": [],
   "source": [
    "CreditCard_df=CreditCard_df.withColumn(\n",
    "    \"maskedcardnumber\",\n",
    "    concat(lit(\"xxxx-xxxx-xxxx-\"),substring(col(\"cardnumber\"),-4,4))\n",
    "    ).drop(col(\"cardnumber\"))"
   ]
  },
  {
   "cell_type": "markdown",
   "metadata": {
    "application/vnd.databricks.v1+cell": {
     "cellMetadata": {
      "byteLimit": 2048000,
      "rowLimit": 10000
     },
     "inputWidgets": {},
     "nuid": "77784b4e-db49-4c2c-99c9-3b06b40ae3c5",
     "showTitle": false,
     "title": ""
    }
   },
   "source": [
    "save transformed file in silver layer"
   ]
  },
  {
   "cell_type": "code",
   "execution_count": 0,
   "metadata": {
    "application/vnd.databricks.v1+cell": {
     "cellMetadata": {
      "byteLimit": 2048000,
      "rowLimit": 10000
     },
     "inputWidgets": {},
     "nuid": "b91884ac-6259-4724-917d-5b5bc2302a6f",
     "showTitle": false,
     "title": ""
    }
   },
   "outputs": [],
   "source": [
    "for i in tablenames:\n",
    "    df_name=f'{i}_df'\n",
    "    df=globals()[df_name]\n",
    "    df.coalesce(1).\\\n",
    "        write.mode('overwrite')\\\n",
    "            .format('parquet')\\\n",
    "                .option('header','true')\\\n",
    "                    .save(f'dbfs:/mnt/adventureworks/Silver/{i}')\n"
   ]
  },
  {
   "cell_type": "code",
   "execution_count": 0,
   "metadata": {
    "application/vnd.databricks.v1+cell": {
     "cellMetadata": {
      "byteLimit": 2048000,
      "rowLimit": 10000
     },
     "inputWidgets": {},
     "nuid": "a0dd6f2f-1cc9-4f46-8130-33b5826ce748",
     "showTitle": false,
     "title": ""
    }
   },
   "outputs": [],
   "source": [
    "for i in dbutils.fs.ls('dbfs:/mnt/adventureworks/Silver/'):\n",
    "    filename=i.path.split('/')[-2]\n",
    "    df=spark.read.format('parquet').load(f'dbfs:/mnt/adventureworks/Silver/{filename}/')\n",
    "    locals()[f's_{filename}_df']=df"
   ]
  },
  {
   "cell_type": "markdown",
   "metadata": {
    "application/vnd.databricks.v1+cell": {
     "cellMetadata": {
      "byteLimit": 2048000,
      "rowLimit": 10000
     },
     "inputWidgets": {},
     "nuid": "b687e23f-6fff-4771-bbb7-917a90dc6cdd",
     "showTitle": false,
     "title": ""
    }
   },
   "source": [
    "total sales per month  how do they compare year-over-year"
   ]
  },
  {
   "cell_type": "code",
   "execution_count": 0,
   "metadata": {
    "application/vnd.databricks.v1+cell": {
     "cellMetadata": {
      "byteLimit": 2048000,
      "rowLimit": 10000
     },
     "inputWidgets": {},
     "nuid": "c8e62415-29ad-4980-a079-81061ee8677e",
     "showTitle": false,
     "title": ""
    }
   },
   "outputs": [
    {
     "output_type": "stream",
     "name": "stdout",
     "output_type": "stream",
     "text": [
      "+---------+----------+----------+\n|orderyear|ordermonth|totalSales|\n+---------+----------+----------+\n|     2011|         5| 503805.92|\n|     2011|         6| 458910.82|\n|     2011|         7| 2044600.0|\n|     2011|         8|2495816.73|\n|     2011|         9| 502073.85|\n|     2011|        10|4588761.82|\n|     2011|        11| 737839.82|\n|     2011|        12|1309863.25|\n|     2012|         1|3970627.28|\n|     2012|         2|1475426.91|\n|     2012|         3|2975748.24|\n|     2012|         4| 1634600.8|\n|     2012|         5|3074602.81|\n|     2012|         6|4099354.36|\n|     2012|         7|3417953.87|\n|     2012|         8|2175637.22|\n|     2012|         9|3454151.94|\n|     2012|        10|2544091.11|\n|     2012|        11|1872701.98|\n|     2012|        12|2829404.82|\n+---------+----------+----------+\nonly showing top 20 rows\n\n"
     ]
    }
   ],
   "source": [
    "salesjoined=s_SalesOrderHeader_df.join(\n",
    "    s_SalesOrderDetail_df,\n",
    "    s_SalesOrderDetail_df[\"salesorderid\"]==s_SalesOrderHeader_df[\"salesorderid\"],\n",
    "    \"inner\"\n",
    ").drop(s_SalesOrderDetail_df[\"salesorderid\"])\n",
    "salestotal=salesjoined.withColumn(\"orderMonth\",month(\"orderdate\"))\\\n",
    "    .withColumn(\"orderyear\",year(\"orderdate\"))\\\n",
    "        .withColumn(\"discountprice\",col(\"unitprice\")*col(\"unitpricediscount\"))\\\n",
    "            .groupBy([\"orderyear\",\"ordermonth\"]).agg(round(sum(col(\"orderqty\")*(col(\"unitprice\")-col(\"discountprice\"))),2).alias(\"totalSales\"))\\\n",
    "                .orderBy(col(\"orderyear\"),col(\"ordermonth\"))\n",
    "salestotal.show()\n",
    "        "
   ]
  },
  {
   "cell_type": "code",
   "execution_count": 0,
   "metadata": {
    "application/vnd.databricks.v1+cell": {
     "cellMetadata": {
      "byteLimit": 2048000,
      "rowLimit": 10000
     },
     "inputWidgets": {},
     "nuid": "b7a36b0f-362a-4b8d-932a-2e4c3216a465",
     "showTitle": false,
     "title": ""
    }
   },
   "outputs": [],
   "source": [
    "salestotal.write.format(\"parquet\").mode(\"overwrite\").option(\"header\",\"true\").save(\"dbfs:/mnt/adventureworks/Gold/salestotal\")"
   ]
  },
  {
   "cell_type": "markdown",
   "metadata": {
    "application/vnd.databricks.v1+cell": {
     "cellMetadata": {
      "byteLimit": 2048000,
      "rowLimit": 10000
     },
     "inputWidgets": {},
     "nuid": "0e3e5fa8-4e36-4558-9e87-6e0ed0707764",
     "showTitle": false,
     "title": ""
    }
   },
   "source": [
    "sales percentage compared with previous year"
   ]
  },
  {
   "cell_type": "code",
   "execution_count": 0,
   "metadata": {
    "application/vnd.databricks.v1+cell": {
     "cellMetadata": {
      "byteLimit": 2048000,
      "rowLimit": 10000
     },
     "inputWidgets": {},
     "nuid": "7aefbcd5-de49-443b-a8e5-eee417846907",
     "showTitle": false,
     "title": ""
    }
   },
   "outputs": [
    {
     "output_type": "stream",
     "name": "stdout",
     "output_type": "stream",
     "text": [
      "+---------+----------+-------------------+------------------+------------------+\n|orderyear|ordermonth|current month sales|previous year sale|percentageIncrease|\n+---------+----------+-------------------+------------------+------------------+\n|     2011|         5|          503805.92|              null|              null|\n|     2011|         6|          458910.82|              null|              null|\n|     2011|         7|          2044600.0|              null|              null|\n|     2011|         8|         2495816.73|              null|              null|\n|     2011|         9|          502073.85|              null|              null|\n|     2011|        10|         4588761.82|              null|              null|\n|     2011|        11|          737839.82|              null|              null|\n|     2011|        12|         1309863.25|              null|              null|\n|     2012|         1|         3970627.28|              null|              null|\n|     2012|         2|         1475426.91|              null|              null|\n|     2012|         3|         2975748.24|              null|              null|\n|     2012|         4|          1634600.8|              null|              null|\n|     2012|         5|         3074602.81|         503805.92|            510.28|\n|     2012|         6|         4099354.36|         458910.82|            793.28|\n|     2012|         7|         3417953.87|         2044600.0|             67.17|\n|     2012|         8|         2175637.22|        2495816.73|            -12.83|\n|     2012|         9|         3454151.94|         502073.85|            587.98|\n|     2012|        10|         2544091.11|        4588761.82|            -44.56|\n|     2012|        11|         1872701.98|         737839.82|            153.81|\n|     2012|        12|         2829404.82|        1309863.25|            116.01|\n+---------+----------+-------------------+------------------+------------------+\nonly showing top 20 rows\n\n"
     ]
    }
   ],
   "source": [
    "salespercentageLastyear=salestotal.alias(\"c\").join(\n",
    "    salestotal.alias(\"p\"),\n",
    "    (col(\"c.ordermonth\")==col(\"p.ordermonth\")) & (col(\"c.orderyear\")==col(\"p.orderyear\")+1)\n",
    "    ,\"left\" \n",
    ")\\\n",
    "    .withColumn(\"percentageIncrease\",round((col(\"c.totalsales\")-col(\"p.totalsales\"))*100/col(\"p.totalsales\"),2))\\\n",
    "        .select([\n",
    "            col(\"c.orderyear\"),\n",
    "            col(\"c.ordermonth\"),\n",
    "            col(\"c.totalsales\").alias(\"current month sales\"),\n",
    "            col(\"p.totalsales\").alias(\"previous year sale\"),\n",
    "            col(\"percentageIncrease\")\n",
    "        ])\\\n",
    "            .orderBy(col(\"c.orderyear\"),col(\"c.ordermonth\"))\n",
    "salespercentageLastyear.show()\n"
   ]
  },
  {
   "cell_type": "code",
   "execution_count": 0,
   "metadata": {
    "application/vnd.databricks.v1+cell": {
     "cellMetadata": {
      "byteLimit": 2048000,
      "rowLimit": 10000
     },
     "inputWidgets": {},
     "nuid": "70bfc7f5-99a4-4029-9470-e64dfea427f9",
     "showTitle": false,
     "title": ""
    }
   },
   "outputs": [],
   "source": [
    "salespercentageLastyear.write.format(\"parquet\").mode(\"overwrite\").option(\"header\",\"true\").save(\"dbfs:/mnt/adventureworks/Gold/salespercentageLastyear\")"
   ]
  },
  {
   "cell_type": "markdown",
   "metadata": {
    "application/vnd.databricks.v1+cell": {
     "cellMetadata": {
      "byteLimit": 2048000,
      "rowLimit": 10000
     },
     "inputWidgets": {},
     "nuid": "d3850a52-8617-4b37-93bf-3b30778ca0e8",
     "showTitle": false,
     "title": ""
    }
   },
   "source": [
    "High-Value Customers:\n",
    "Customers who consistently make high-value purchases and contribute significantly to revenue."
   ]
  },
  {
   "cell_type": "code",
   "execution_count": 0,
   "metadata": {
    "application/vnd.databricks.v1+cell": {
     "cellMetadata": {
      "byteLimit": 2048000,
      "rowLimit": 10000
     },
     "inputWidgets": {},
     "nuid": "4f14c824-8083-4d9a-b0da-56e32e91f912",
     "showTitle": false,
     "title": ""
    }
   },
   "outputs": [
    {
     "output_type": "stream",
     "name": "stdout",
     "output_type": "stream",
     "text": [
      "+----------+----------+------------+\n|customerid|totalSales|no od orders|\n+----------+----------+------------+\n|     29818| 877107.19|          12|\n|     29715| 853849.18|          12|\n|     29722| 841908.77|          12|\n|     30117| 816755.58|          12|\n|     29614|  799277.9|          12|\n|     29639| 787773.04|          12|\n|     29701| 746317.53|           8|\n|     29617| 740985.83|          12|\n|     29994| 730798.71|          12|\n|     29646| 727272.65|          12|\n|     29580| 724299.64|          12|\n|     29827| 711864.76|          12|\n|     29497| 700803.79|          12|\n|     29716| 693502.49|          12|\n|     29913| 671618.03|           8|\n|     30103|  643745.9|           8|\n|     29957| 636226.47|           8|\n|     29523| 618616.13|          12|\n|     29616| 617340.46|           8|\n|     30048| 602559.89|           8|\n+----------+----------+------------+\nonly showing top 20 rows\n\n"
     ]
    }
   ],
   "source": [
    "windowspec=Window.orderBy(col(\"totalsales\").desc())\n",
    "\n",
    "customer_sales=s_Customer_df.alias(\"c\").join(\n",
    "    salesjoined.alias(\"s\"),\n",
    "    col(\"c.customerid\")==col(\"s.customerid\"),\n",
    "    \"left\"\n",
    ").drop(col(\"s.customerid\"))\n",
    "high_value_customers=customer_sales.withColumn(\"discountprice\",col(\"s.unitprice\")*col(\"s.unitpricediscount\"))\\\n",
    "    .groupBy(\"c.customerid\").agg(round(sum(col(\"orderqty\")*(col(\"unitprice\")-col(\"discountprice\"))),2).alias            \n",
    "          (\"totalSales\"),\n",
    "          countDistinct(col(\"salesorderid\")).alias(\"no od orders\"))\\\n",
    "    .orderBy(col(\"totalsales\").desc())\n",
    "\n",
    "high_value_customers.show()"
   ]
  },
  {
   "cell_type": "code",
   "execution_count": 0,
   "metadata": {
    "application/vnd.databricks.v1+cell": {
     "cellMetadata": {
      "byteLimit": 2048000,
      "rowLimit": 10000
     },
     "inputWidgets": {},
     "nuid": "06ce06e4-5629-45e2-9a2a-7c60661ebc8f",
     "showTitle": false,
     "title": ""
    }
   },
   "outputs": [],
   "source": [
    "totalrevenue=high_value_customers.agg(round(sum(\"totalsales\"),2).alias(\"total\")).collect()[0][\"total\"]"
   ]
  },
  {
   "cell_type": "code",
   "execution_count": 0,
   "metadata": {
    "application/vnd.databricks.v1+cell": {
     "cellMetadata": {
      "byteLimit": 2048000,
      "rowLimit": 10000
     },
     "inputWidgets": {},
     "nuid": "956f5344-2ba2-47cd-857e-e0938ee22473",
     "showTitle": false,
     "title": ""
    }
   },
   "outputs": [],
   "source": [
    "high_value_customers.write.format(\"parquet\").mode(\"overwrite\").option(\"header\",\"true\").save(\"dbfs:/mnt/adventureworks/Gold/high_value_customers\")"
   ]
  },
  {
   "cell_type": "markdown",
   "metadata": {
    "application/vnd.databricks.v1+cell": {
     "cellMetadata": {
      "byteLimit": 2048000,
      "rowLimit": 10000
     },
     "inputWidgets": {},
     "nuid": "ffed03d3-075e-44d2-8ee2-5fbd0114e7df",
     "showTitle": false,
     "title": ""
    }
   },
   "source": [
    "first and last purchase of customer and days in between"
   ]
  },
  {
   "cell_type": "code",
   "execution_count": 0,
   "metadata": {
    "application/vnd.databricks.v1+cell": {
     "cellMetadata": {
      "byteLimit": 2048000,
      "rowLimit": 10000
     },
     "inputWidgets": {},
     "nuid": "f9f69d46-2470-443e-a8f7-ac6d06e30db7",
     "showTitle": false,
     "title": ""
    }
   },
   "outputs": [
    {
     "output_type": "stream",
     "name": "stdout",
     "output_type": "stream",
     "text": [
      "+----------+----------------------------------+---------------------------------+\n|customerid|min(orderdate AS `first purchase`)|max(orderdate AS `last purchase`)|\n+----------+----------------------------------+---------------------------------+\n|     11033|                        2011-07-18|                       2014-04-07|\n|     29834|                        2011-08-01|                       2014-05-01|\n|     28088|                        2011-08-06|                       2011-08-06|\n|     28170|                        2011-08-18|                       2011-08-18|\n|     28664|                        2011-10-01|                       2014-03-12|\n|     14832|                        2011-11-14|                       2014-04-12|\n|     22373|                        2011-11-20|                       2014-01-31|\n|     29285|                        2012-01-10|                       2012-01-10|\n|     11317|                        2012-02-01|                       2013-07-21|\n|     15619|                        2012-03-14|                       2014-05-20|\n|     12027|                        2012-04-11|                       2013-12-26|\n|     29744|                        2012-05-30|                       2014-03-01|\n|     29601|                        2012-06-30|                       2014-03-31|\n|     29993|                        2012-06-30|                       2013-03-30|\n|     28836|                        2012-07-17|                       2012-07-17|\n|     13840|                        2012-07-27|                       2013-12-28|\n|     29719|                        2012-09-30|                       2014-03-31|\n|     26623|                        2012-11-20|                       2014-01-07|\n|     26708|                        2012-11-30|                       2014-02-10|\n|     17753|                        2012-12-06|                       2013-10-21|\n+----------+----------------------------------+---------------------------------+\nonly showing top 20 rows\n\n"
     ]
    }
   ],
   "source": [
    "windowspec1=Window.partitionBy(\"customerid\").orderBy(col(\"orderdate\"))\n",
    "s_Customer_df.join(\n",
    "    s_SalesOrderHeader_df,\n",
    "    s_Customer_df[\"customerid\"] == s_SalesOrderHeader_df[\"customerid\"],\n",
    "    \"inner\"\n",
    ").drop(s_SalesOrderHeader_df[\"customerid\"])\\\n",
    "  .select(\"customerid\", \"orderdate\")\\\n",
    "  .groupBy(\"customerid\").agg(min(col(\"orderdate\").alias(\"first purchase\")),max(col(\"orderdate\").alias(\"last purchase\")))\\\n",
    "  .show()"
   ]
  },
  {
   "cell_type": "markdown",
   "metadata": {
    "application/vnd.databricks.v1+cell": {
     "cellMetadata": {
      "byteLimit": 2048000,
      "rowLimit": 10000
     },
     "inputWidgets": {},
     "nuid": "976519c0-2344-4fdc-9449-3caf2da2e214",
     "showTitle": false,
     "title": ""
    }
   },
   "source": [
    "Order Fulfillment Analysis:\n",
    "\n",
    "What is the average order fulfillment time, and how does it vary across different products or regions?"
   ]
  },
  {
   "cell_type": "code",
   "execution_count": 0,
   "metadata": {
    "application/vnd.databricks.v1+cell": {
     "cellMetadata": {
      "byteLimit": 2048000,
      "rowLimit": 10000
     },
     "inputWidgets": {},
     "nuid": "dc265f57-04c0-4f7c-8e97-c069ac005e68",
     "showTitle": false,
     "title": ""
    }
   },
   "outputs": [
    {
     "output_type": "stream",
     "name": "stdout",
     "output_type": "stream",
     "text": [
      "+---------+-----------+---+\n|productid|TerritoryID|avg|\n+---------+-----------+---+\n|      861|          8|  8|\n|      765|          8|  8|\n|      863|          8|  8|\n|      761|          8|  8|\n|      763|          8|  8|\n|      852|          8|  8|\n|      730|          8|  8|\n|      712|          8|  8|\n|      792|          8|  8|\n|      855|          8|  8|\n|      715|          8|  8|\n|      760|          8|  8|\n|      726|          8|  8|\n|      762|          8|  8|\n|      862|          8|  8|\n|      856|          8|  8|\n|      711|          8|  8|\n|      836|          8|  8|\n|      854|          8|  8|\n|      835|          8|  8|\n+---------+-----------+---+\nonly showing top 20 rows\n\n"
     ]
    }
   ],
   "source": [
    "salesjoined\\\n",
    "  .select(\"productid\",\"TerritoryID\",\"orderdate\",\"shipdate\")\\\n",
    "  .withColumn(\"Diff\",datediff(col(\"shipdate\"),col(\"orderdate\")))\\\n",
    "  .groupBy(\"productid\",\"TerritoryID\").agg(ceil(avg(\"diff\")).alias(\"avg\"))\\\n",
    "  .orderBy(ceil(col(\"avg\").alias(\"avg delivered day\")).desc())\\\n",
    "  .show()"
   ]
  },
  {
   "cell_type": "markdown",
   "metadata": {
    "application/vnd.databricks.v1+cell": {
     "cellMetadata": {
      "byteLimit": 2048000,
      "rowLimit": 10000
     },
     "inputWidgets": {},
     "nuid": "ab13396d-1e60-47e5-9b00-3bf49cccd9de",
     "showTitle": false,
     "title": ""
    }
   },
   "source": [
    "Credit Card Usage Trends:\n",
    "\n",
    "How does the usage of different credit card types vary across different customer segments and purchase amounts?"
   ]
  },
  {
   "cell_type": "code",
   "execution_count": 0,
   "metadata": {
    "application/vnd.databricks.v1+cell": {
     "cellMetadata": {
      "byteLimit": 2048000,
      "rowLimit": 10000
     },
     "inputWidgets": {},
     "nuid": "2780eccc-4787-4052-9f79-f6e9bb95f7bc",
     "showTitle": false,
     "title": ""
    }
   },
   "outputs": [],
   "source": [
    "sales_creditcard_df=s_SalesOrderHeader_df\\\n",
    "    .select(\"salesorderid\",\"customerid\",\"creditcardid\",\"totaldue\")\\\n",
    "    .alias(\"s\").join(\n",
    "        s_CreditCard_df.alias(\"c\"),\n",
    "        col(\"s.creditcardid\")==col(\"c.creditcardid\"),\n",
    "        \"inner\"\n",
    "    )"
   ]
  },
  {
   "cell_type": "code",
   "execution_count": 0,
   "metadata": {
    "application/vnd.databricks.v1+cell": {
     "cellMetadata": {
      "byteLimit": 2048000,
      "rowLimit": 10000
     },
     "inputWidgets": {},
     "nuid": "3e6c6971-ae68-476d-a152-5b1a30385e49",
     "showTitle": false,
     "title": ""
    }
   },
   "outputs": [
    {
     "output_type": "stream",
     "name": "stdout",
     "output_type": "stream",
     "text": [
      "+---------------+-------------+-----------------+\n|       category|     cardtype|count of category|\n+---------------+-------------+-----------------+\n| Budget Spender|ColonialVoice|             6982|\n| Budget Spender|  Distinguish|             7129|\n| Budget Spender| SuperiorCard|             7120|\n| Budget Spender|        Vista|             6836|\n| Luxury Spender|ColonialVoice|               34|\n| Luxury Spender|  Distinguish|               23|\n| Luxury Spender| SuperiorCard|               27|\n| Luxury Spender|        Vista|               24|\n|Premium Shopper|ColonialVoice|              164|\n|Premium Shopper|  Distinguish|               87|\n|Premium Shopper| SuperiorCard|              113|\n|Premium Shopper|        Vista|              149|\n|   Value Seeker|ColonialVoice|              498|\n|   Value Seeker|  Distinguish|              351|\n|   Value Seeker| SuperiorCard|              374|\n|   Value Seeker|        Vista|              423|\n+---------------+-------------+-----------------+\n\n"
     ]
    }
   ],
   "source": [
    "credit_card_trent=sales_creditcard_df\\\n",
    "    .withColumn(\"category\",\n",
    "                when(col(\"totaldue\") < 5000, \"Budget Spender\")\n",
    "                .when((col(\"totaldue\")>=5000) & (col(\"totaldue\")<50000)  ,\"Value Seeker\") \n",
    "                .when((col(\"totaldue\")>=50000) & (col(\"totaldue\")<100000) ,\"Premium Shopper\")\n",
    "                .otherwise(\"Luxury Spender\")         \n",
    "                )\\\n",
    "    .groupBy(\"category\",\"cardtype\").agg(count(\"salesorderid\").alias(\"count of category\"))\\\n",
    "    .orderBy(col(\"category\"),col(\"cardtype\"))\n",
    "credit_card_trent.show()"
   ]
  },
  {
   "cell_type": "code",
   "execution_count": 0,
   "metadata": {
    "application/vnd.databricks.v1+cell": {
     "cellMetadata": {
      "byteLimit": 2048000,
      "rowLimit": 10000
     },
     "inputWidgets": {},
     "nuid": "3c1c194f-f07c-489b-aa4f-12bb1cdb228f",
     "showTitle": false,
     "title": ""
    }
   },
   "outputs": [],
   "source": [
    "credit_card_trent.write.format(\"parquet\").mode(\"overwrite\").option(\"header\",\"true\").save(\"dbfs:/mnt/adventureworks/Gold/credit_card_trent\")"
   ]
  },
  {
   "cell_type": "markdown",
   "metadata": {
    "application/vnd.databricks.v1+cell": {
     "cellMetadata": {
      "byteLimit": 2048000,
      "rowLimit": 10000
     },
     "inputWidgets": {},
     "nuid": "e55115a8-7000-45d6-b602-94c26e0f3cc0",
     "showTitle": false,
     "title": ""
    }
   },
   "source": [
    "Special Offers Effectiveness:\n",
    "\n",
    "What is the impact of special offers on sales volume and revenue? Are certain offers more effective than others?"
   ]
  },
  {
   "cell_type": "code",
   "execution_count": 0,
   "metadata": {
    "application/vnd.databricks.v1+cell": {
     "cellMetadata": {
      "byteLimit": 2048000,
      "rowLimit": 10000
     },
     "inputWidgets": {},
     "nuid": "f2e5eeb5-9496-4947-afac-471289c2452f",
     "showTitle": false,
     "title": ""
    }
   },
   "outputs": [
    {
     "output_type": "stream",
     "name": "stdout",
     "output_type": "stream",
     "text": [
      "+--------------+--------------+------------------+\n|specialofferid| total revenue|total product sold|\n+--------------+--------------+------------------+\n|             1|1.0237262226E8|            115884|\n|             2|    4896451.91|              3428|\n|             3|    1037643.33|               606|\n|            14|     612324.54|               244|\n|            13|     458091.19|               524|\n|             7|      250927.7|               137|\n|             4|     124148.53|                80|\n|             9|      49986.08|                61|\n|            16|      25899.14|               169|\n|            11|        9100.9|                84|\n|             8|       7448.83|                98|\n|             5|       1736.99|                 2|\n+--------------+--------------+------------------+\n\n"
     ]
    }
   ],
   "source": [
    "offer_sales_df=s_SalesOrderDetail_df.alias(\"s\")\\\n",
    "    .join(s_SpecialOfferProduct_df.alias(\"d\"),\n",
    "          (col(\"s.productid\")==col(\"d.productid\")) & (col(\"s.SpecialOfferID\")==col(\"d.SpecialOfferID\")),\n",
    "          \"left\"\n",
    "          )\\\n",
    "    .withColumn(\"offer product\",when(col(\"d.rowguid\").isNotNull(),\"yes\").otherwise(\"No\"))\\\n",
    "    .drop(col(\"d.SpecialOfferID\"),col(\"d.productid\"),col(\"d.modifieddate\"),col(\"d.rowguid\"))\n",
    "    \n",
    "\n",
    "offer_effectiveness=offer_sales_df.select(\"s.SalesOrderID\",\"s.SalesOrderDetailID\",\"s.OrderQty\",\"s.linetotal\",\"s.ProductID\",\"s.SpecialOfferID\")\\\n",
    "    .filter(col(\"d.rowguid\").isNotNull())\\\n",
    "    .groupBy(\"s.specialofferid\").agg(round(sum(\"s.linetotal\"),2).alias(\"total revenue\"),count(col(\"s.productid\")).alias(\"total product sold\"))\\\n",
    "    .orderBy(col(\"total revenue\").desc(),col(\"total product sold\").desc())\n",
    "offer_effectiveness.show()"
   ]
  },
  {
   "cell_type": "code",
   "execution_count": 0,
   "metadata": {
    "application/vnd.databricks.v1+cell": {
     "cellMetadata": {
      "byteLimit": 2048000,
      "rowLimit": 10000
     },
     "inputWidgets": {},
     "nuid": "db2b7a0a-2dae-4c82-b777-b6c2489e8b83",
     "showTitle": false,
     "title": ""
    }
   },
   "outputs": [],
   "source": [
    "offer_effectiveness.write.format(\"parquet\").mode(\"overwrite\").option(\"header\",\"true\").save(\"dbfs:/mnt/adventureworks/Gold/Offers_Effectiveness\")"
   ]
  },
  {
   "cell_type": "markdown",
   "metadata": {
    "application/vnd.databricks.v1+cell": {
     "cellMetadata": {
      "byteLimit": 2048000,
      "rowLimit": 10000
     },
     "inputWidgets": {},
     "nuid": "a315df81-6841-4d0a-b524-27510a195803",
     "showTitle": false,
     "title": ""
    }
   },
   "source": [
    "How do special offers influence customer retention and repeat purchases?"
   ]
  },
  {
   "cell_type": "code",
   "execution_count": 0,
   "metadata": {
    "application/vnd.databricks.v1+cell": {
     "cellMetadata": {
      "byteLimit": 2048000,
      "rowLimit": 10000
     },
     "inputWidgets": {},
     "nuid": "1719c0eb-4151-4967-b78f-547308ca340b",
     "showTitle": false,
     "title": ""
    }
   },
   "outputs": [
    {
     "output_type": "stream",
     "name": "stdout",
     "output_type": "stream",
     "text": [
      "+----------+------------+--------------+--------+\n|customerid|no of orders|no of products| revenue|\n+----------+------------+--------------+--------+\n|     11000|           7|             7|19027.09|\n|     11001|          10|             9|18647.34|\n|     11002|           3|             3| 7882.09|\n|     11003|           8|             8|20947.71|\n|     11004|           5|             5|13225.74|\n|     11005|           5|             5|13075.63|\n|     11006|           4|             4|10374.82|\n|     11007|           7|             7|18561.65|\n|     11008|           6|             6|15566.31|\n|     11009|           4|             4|10423.11|\n|     11010|           3|             3| 7824.63|\n|     11011|           3|             3| 7924.08|\n|     11012|           2|             2|   13.88|\n|     11013|           3|             3|  248.56|\n|     11014|           4|             4|  439.66|\n|     11017|           3|             3|  5940.8|\n|     11018|           6|             6| 8673.39|\n|     11019|          30|            20| 1925.91|\n|     11023|           2|             2|   13.88|\n|     11024|           3|             3|   47.17|\n+----------+------------+--------------+--------+\nonly showing top 20 rows\n\n"
     ]
    }
   ],
   "source": [
    "windowspec2=Window.partitionBy(\"s.customerid\").orderBy(\"s.orderdate\")\n",
    "fact_sales=s_SalesOrderHeader_df.alias(\"s\")\\\n",
    "    .join(\n",
    "        offer_sales_df.alias(\"o\"),\n",
    "        col(\"s.SalesOrderID\")==col(\"o.SalesOrderID\")\n",
    "        ,\"inner\"\n",
    "        )\\\n",
    "    .withColumn(\"first purchase\",min(col(\"s.orderdate\")).over(windowspec2))\\\n",
    "    .drop(col(\"o.SalesOrderID\"),col(\"s.modifieddate\"),col(\"s.rowguid\"))\n",
    "customer_retension=fact_sales.filter(col(\"s.orderdate\")>col(\"first purchase\"))\\\n",
    "        .groupBy(\"s.customerid\").agg(count(\"s.SalesOrderID\").alias(\"no of orders\")\n",
    "                                 ,countDistinct(\"o.ProductID\").alias(\"no of products\")\n",
    "                                 ,round(sum(\"s.TotalDue\"),2).alias(\"revenue\"))\n",
    "customer_retension.show()"
   ]
  },
  {
   "cell_type": "markdown",
   "metadata": {
    "application/vnd.databricks.v1+cell": {
     "cellMetadata": {
      "byteLimit": 2048000,
      "rowLimit": 10000
     },
     "inputWidgets": {},
     "nuid": "3c52e4ec-a61b-4a08-aada-a8a13fec59a9",
     "showTitle": false,
     "title": ""
    }
   },
   "source": [
    "customer order after the first special offer purchase"
   ]
  },
  {
   "cell_type": "code",
   "execution_count": 0,
   "metadata": {
    "application/vnd.databricks.v1+cell": {
     "cellMetadata": {
      "byteLimit": 2048000,
      "rowLimit": 10000
     },
     "inputWidgets": {},
     "nuid": "fa0bace0-ceaa-4f1a-b5da-ecf3d93af63d",
     "showTitle": false,
     "title": ""
    }
   },
   "outputs": [
    {
     "output_type": "stream",
     "name": "stdout",
     "output_type": "stream",
     "text": [
      "+---------------+---------------+\n|       category|no of customers|\n+---------------+---------------+\n| one time buyer|           1003|\n|repeat customer|           6462|\n+---------------+---------------+\n\n"
     ]
    }
   ],
   "source": [
    "customer_retension\\\n",
    "    .withColumn(\"category\",when(col(\"no of orders\")>1,\"repeat customer\").otherwise(\"one time buyer\"))\\\n",
    "    .groupBy(col(\"category\")).agg(count(\"customerid\").alias(\"no of customers\"))\\\n",
    "    .show()\n",
    "    "
   ]
  },
  {
   "cell_type": "code",
   "execution_count": 0,
   "metadata": {
    "application/vnd.databricks.v1+cell": {
     "cellMetadata": {
      "byteLimit": 2048000,
      "rowLimit": 10000
     },
     "inputWidgets": {},
     "nuid": "7a7ce547-b60a-4dfc-a27f-752f15f439e0",
     "showTitle": false,
     "title": ""
    }
   },
   "outputs": [],
   "source": [
    "customer_retension.write.format(\"parquet\").mode(\"overwrite\").option(\"header\",\"true\").save(\"dbfs:/mnt/adventureworks/Gold/customer_retension\")"
   ]
  },
  {
   "cell_type": "code",
   "execution_count": 0,
   "metadata": {
    "application/vnd.databricks.v1+cell": {
     "cellMetadata": {
      "byteLimit": 2048000,
      "rowLimit": 10000
     },
     "inputWidgets": {},
     "nuid": "9febf593-c34d-45fc-a64f-aea8e6befaba",
     "showTitle": false,
     "title": ""
    }
   },
   "outputs": [],
   "source": [
    "\n",
    "fact_sales.write.format(\"parquet\").mode(\"overwrite\").option(\"header\",\"true\").save(\"dbfs:/mnt/adventureworks/Gold/Tables/fact_sales\")"
   ]
  },
  {
   "cell_type": "code",
   "execution_count": 0,
   "metadata": {
    "application/vnd.databricks.v1+cell": {
     "cellMetadata": {
      "byteLimit": 2048000,
      "rowLimit": 10000
     },
     "inputWidgets": {},
     "nuid": "0598e32c-cfc8-4615-8d82-d24748d4b794",
     "showTitle": false,
     "title": ""
    }
   },
   "outputs": [],
   "source": [
    "dim_salesperson=s_SalesPerson_df.alias(\"sa\").join(\n",
    "    s_Store_df.alias(\"st\"),\n",
    "    col(\"sa.SalesPersonID\")==col(\"st.SalesPersonID\")\n",
    "    ,\"left\"\n",
    ").drop(col(\"st.SalesPersonID\"),col(\"st.modifieddate\"),col(\"st.rowguid\"))"
   ]
  },
  {
   "cell_type": "code",
   "execution_count": 0,
   "metadata": {
    "application/vnd.databricks.v1+cell": {
     "cellMetadata": {
      "byteLimit": 2048000,
      "rowLimit": 10000
     },
     "inputWidgets": {},
     "nuid": "10ff1a5c-faca-4bd1-b08b-4e03aba11b3a",
     "showTitle": false,
     "title": ""
    }
   },
   "outputs": [],
   "source": [
    "dim_salesperson.write.format(\"parquet\").mode(\"overwrite\").option(\"header\",\"true\").save(\"dbfs:/mnt/adventureworks/Gold/Tables/dim_salesperson\")"
   ]
  },
  {
   "cell_type": "code",
   "execution_count": 0,
   "metadata": {
    "application/vnd.databricks.v1+cell": {
     "cellMetadata": {},
     "inputWidgets": {},
     "nuid": "92a05b77-6f73-4dc5-b8cc-e2978b487512",
     "showTitle": false,
     "title": ""
    }
   },
   "outputs": [],
   "source": [
    "s_SalesTerritory_df.write.format(\"parquet\").mode(\"overwrite\").option(\"header\",\"true\").save(\"dbfs:/mnt/adventureworks/Gold/Tables/dim_SalesTerritory\")"
   ]
  },
  {
   "cell_type": "code",
   "execution_count": 0,
   "metadata": {
    "application/vnd.databricks.v1+cell": {
     "cellMetadata": {
      "byteLimit": 2048000,
      "rowLimit": 10000
     },
     "inputWidgets": {},
     "nuid": "94469465-2789-4948-9406-48a0c65e57a6",
     "showTitle": false,
     "title": ""
    }
   },
   "outputs": [],
   "source": [
    "customers=s_Customer_df.join(\n",
    "    s_SalesOrderHeader_df,\n",
    "    s_SalesOrderHeader_df[\"customerid\"]==s_Customer_df[\"customerid\"],\n",
    "    \"left\"\n",
    ").select(s_Customer_df[\"*\"],s_SalesOrderHeader_df[\"CreditCardID\"],s_SalesOrderHeader_df[\"CreditCardApprovalCode\"],)\n",
    "dim_customer=customers.alias(\"c\").join(\n",
    "    s_CreditCard_df.alias(\"cr\"),\n",
    "    col(\"c.creditcardid\")==col(\"cr.creditcardid\")\n",
    "    ,\"left\"\n",
    ").drop(col(\"cr.ModifiedDate\"),col(\"cr.creditcardid\"))"
   ]
  },
  {
   "cell_type": "code",
   "execution_count": 0,
   "metadata": {
    "application/vnd.databricks.v1+cell": {
     "cellMetadata": {
      "byteLimit": 2048000,
      "rowLimit": 10000
     },
     "inputWidgets": {},
     "nuid": "c1356871-a897-45e3-bdb4-299de18ce5d3",
     "showTitle": false,
     "title": ""
    }
   },
   "outputs": [],
   "source": [
    "dim_customer.write.format(\"parquet\").mode(\"overwrite\").option(\"header\",\"true\").save(\"dbfs:/mnt/adventureworks/Gold/Tables/dim_customer\")"
   ]
  },
  {
   "cell_type": "code",
   "execution_count": 0,
   "metadata": {
    "application/vnd.databricks.v1+cell": {
     "cellMetadata": {
      "byteLimit": 2048000,
      "rowLimit": 10000
     },
     "inputWidgets": {},
     "nuid": "d14818c6-d5fc-4743-8ec5-03bf8517cc88",
     "showTitle": false,
     "title": ""
    }
   },
   "outputs": [
    {
     "output_type": "stream",
     "name": "stdout",
     "output_type": "stream",
     "text": [
      "Out[67]: ['SalesOrderID',\n 'RevisionNumber',\n 'OrderDate',\n 'DueDate',\n 'ShipDate',\n 'Status',\n 'OnlineOrderFlag',\n 'SalesOrderNumber',\n 'PurchaseOrderNumber',\n 'AccountNumber',\n 'CustomerID',\n 'SalesPersonID',\n 'TerritoryID',\n 'BillToAddressID',\n 'ShipToAddressID',\n 'ShipMethodID',\n 'CreditCardID',\n 'CreditCardApprovalCode',\n 'CurrencyRateID',\n 'SubTotal',\n 'TaxAmt',\n 'Freight',\n 'TotalDue',\n 'Comment',\n 'rowguid',\n 'ModifiedDate',\n 'Ordermonth',\n 'orderYear']"
     ]
    }
   ],
   "source": [
    " s_SalesOrderHeader_df.columns\n",
    " s_"
   ]
  }
 ],
 "metadata": {
  "application/vnd.databricks.v1+notebook": {
   "dashboards": [],
   "environmentMetadata": null,
   "language": "python",
   "notebookMetadata": {
    "mostRecentlyExecutedCommandWithImplicitDF": {
     "commandId": 2881659812012887,
     "dataframes": [
      "_sqldf"
     ]
    },
    "pythonIndentUnit": 4
   },
   "notebookName": "Adventureworks",
   "widgets": {}
  }
 },
 "nbformat": 4,
 "nbformat_minor": 0
}
